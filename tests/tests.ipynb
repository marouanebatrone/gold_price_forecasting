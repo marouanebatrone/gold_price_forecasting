{
 "cells": [
  {
   "cell_type": "markdown",
   "metadata": {},
   "source": [
    "This notebook used to test some critical functions used on data analysis and models testing phase."
   ]
  },
  {
   "cell_type": "markdown",
   "metadata": {},
   "source": [
    "Tetsing lagCol Function"
   ]
  },
  {
   "cell_type": "code",
   "execution_count": 8,
   "metadata": {},
   "outputs": [],
   "source": [
    "def lagsCol(df, cols, lag):\n",
    "    for col in cols:\n",
    "        df[col + \"lag_\" + str(lag)] = df[col].shift(lag)\n",
    "    return df"
   ]
  },
  {
   "cell_type": "code",
   "execution_count": 9,
   "metadata": {},
   "outputs": [],
   "source": [
    "import unittest\n",
    "import pandas as pd\n",
    "\n",
    "class TestLagsCol(unittest.TestCase):\n",
    "    def test_lagsCol_single_column(self):\n",
    "        data = {'A': [1, 2, 3, 4, 5]}\n",
    "        df = pd.DataFrame(data)\n",
    "        \n",
    "        expected_data = {'A': [1, 2, 3, 4, 5], 'Alag_1': [None, 1, 2, 3, 4]}\n",
    "        expected_df = pd.DataFrame(expected_data)\n",
    "\n",
    "        result_df = lagsCol(df, ['A'], 1)\n",
    "\n",
    "        pd.testing.assert_frame_equal(result_df.reset_index(drop=True), expected_df.reset_index(drop=True))\n",
    "\n",
    "    def test_lagsCol_multiple_columns(self):\n",
    "        data = {'A': [1, 2, 3, 4, 5], 'B': [10, 20, 30, 40, 50]}\n",
    "        df = pd.DataFrame(data)\n",
    "        \n",
    "        expected_data = {\n",
    "            'A': [1, 2, 3, 4, 5],\n",
    "            'B': [10, 20, 30, 40, 50],\n",
    "            'Alag_1': [None, 1, 2, 3, 4],\n",
    "            'Blag_1': [None, 10, 20, 30, 40]\n",
    "        }\n",
    "        expected_df = pd.DataFrame(expected_data)\n",
    "\n",
    "        result_df = lagsCol(df, ['A', 'B'], 1)\n",
    "\n",
    "        pd.testing.assert_frame_equal(result_df.reset_index(drop=True), expected_df.reset_index(drop=True))"
   ]
  },
  {
   "cell_type": "code",
   "execution_count": 11,
   "metadata": {},
   "outputs": [
    {
     "name": "stderr",
     "output_type": "stream",
     "text": [
      "..\n",
      "----------------------------------------------------------------------\n",
      "Ran 2 tests in 0.012s\n",
      "\n",
      "OK\n"
     ]
    },
    {
     "data": {
      "text/plain": [
       "<unittest.main.TestProgram at 0x265ea8153a0>"
      ]
     },
     "execution_count": 11,
     "metadata": {},
     "output_type": "execute_result"
    }
   ],
   "source": [
    "unittest.main(argv=[''], exit=False)"
   ]
  },
  {
   "cell_type": "code",
   "execution_count": null,
   "metadata": {},
   "outputs": [],
   "source": []
  },
  {
   "cell_type": "code",
   "execution_count": null,
   "metadata": {},
   "outputs": [],
   "source": []
  }
 ],
 "metadata": {
  "kernelspec": {
   "display_name": "Python 3",
   "language": "python",
   "name": "python3"
  },
  "language_info": {
   "codemirror_mode": {
    "name": "ipython",
    "version": 3
   },
   "file_extension": ".py",
   "mimetype": "text/x-python",
   "name": "python",
   "nbconvert_exporter": "python",
   "pygments_lexer": "ipython3",
   "version": "3.12.0"
  }
 },
 "nbformat": 4,
 "nbformat_minor": 2
}
